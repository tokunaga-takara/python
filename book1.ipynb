{
 "cells": [
  {
   "cell_type": "code",
   "execution_count": 3,
   "metadata": {},
   "outputs": [
    {
     "name": "stdout",
     "output_type": "stream",
     "text": [
      "0-->1-->2-->3-->4-->5-->6-->7-->8-->9-->"
     ]
    }
   ],
   "source": [
    "for i in range(10):\n",
    "    print(i, end = '-->')"
   ]
  },
  {
   "cell_type": "code",
   "execution_count": 10,
   "metadata": {},
   "outputs": [
    {
     "name": "stdout",
     "output_type": "stream",
     "text": [
      "19950631168807583848837421626835850838234968318861924548520089498529438830221946631919961684036194597899331129423209124271556491349413781117593785932096323957855730046793794526765246551266059895520550086918193311542508608460618104685509074866089624888090489894838009253941633257850621568309473902556912388065225096643874441046759871626985453222868538161694315775629640762836880760732228535091641476183956381458969463899410840960536267821064621427333394036525565649530603142680234969400335934316651459297773279665775606172582031407994198179607378245683762280037302885487251900834464581454650557929601414833921615734588139257095379769119277800826957735674444123062018757836325502728323789270710373802866393031428133241401624195671690574061419654342324638801248856147305207431992259611796250130992860241708340807605932320161268492288496255841312844061536738951487114256315111089745514203313820202931640957596464756010405845841566072044962867016515061920631004186422275908670900574606417856951911456055068251250406007519842261898059237118054444788072906395242548339221982707404473162376760846613033778706039803413197133493654622700563169937455508241780972810983291314403571877524768509857276937926433221599399876886660808368837838027643282775172273657572744784112294389733810861607423253291974813120197604178281965697475898164531258434135959862784130128185406283476649088690521047580882615823961985770122407044330583075869039319604603404973156583208672105913300903752823415539745394397715257455290510212310947321610753474825740775273986348298498340756937955646638621874569499279016572103701364433135817214311791398222983845847334440270964182851005072927748364550578634501100852987812389473928699540834346158807043959118985815145779177143619698728131459483783202081474982171858011389071228250905826817436220577475921417653715687725614904582904992461028630081535583308130101987675856234343538955409175623400844887526162643568648833519463720377293240094456246923254350400678027273837755376406726898636241037491410966718557050759098100246789880178271925953381282421954028302759408448955014676668389697996886241636313376393903373455801407636741877711055384225739499110186468219696581651485130494222369947714763069155468217682876200362777257723781365331611196811280792669481887201298643660768551639860534602297871557517947385246369446923087894265948217008051120322365496288169035739121368338393591756418733850510970271613915439590991598154654417336311656936031122249937969999226781732358023111862644575299135758175008199839236284615249881088960232244362173771618086357015468484058622329792853875623486556440536962622018963571028812361567512543338303270029097668650568557157505516727518899194129711337690149916181315171544007728650573189557450920330185304847113818315407324053319038462084036421763703911550639789000742853672196280903477974533320468368795868580237952218629120080742819551317948157624448298518461509704888027274721574688131594750409732115080498190455803416826949787141316063210686391511681774304792596709376\n"
     ]
    }
   ],
   "source": [
    "print(2**10000)"
   ]
  },
  {
   "cell_type": "code",
   "execution_count": 11,
   "metadata": {},
   "outputs": [
    {
     "name": "stdout",
     "output_type": "stream",
     "text": [
      "123\n"
     ]
    }
   ],
   "source": [
    "print(123)"
   ]
  },
  {
   "cell_type": "code",
   "execution_count": 12,
   "metadata": {},
   "outputs": [
    {
     "name": "stdout",
     "output_type": "stream",
     "text": [
      "123\n"
     ]
    }
   ],
   "source": [
    "print(0b1111011)"
   ]
  },
  {
   "cell_type": "code",
   "execution_count": 13,
   "metadata": {},
   "outputs": [
    {
     "name": "stdout",
     "output_type": "stream",
     "text": [
      "123\n"
     ]
    }
   ],
   "source": [
    "print(0o173)"
   ]
  },
  {
   "cell_type": "code",
   "execution_count": 14,
   "metadata": {},
   "outputs": [
    {
     "name": "stdout",
     "output_type": "stream",
     "text": [
      "123\n"
     ]
    }
   ],
   "source": [
    "print(0x7b)"
   ]
  },
  {
   "cell_type": "code",
   "execution_count": 15,
   "metadata": {},
   "outputs": [
    {
     "name": "stdout",
     "output_type": "stream",
     "text": [
      "9.99999999999999\n"
     ]
    }
   ],
   "source": [
    "print(9.99999999999999)"
   ]
  },
  {
   "cell_type": "code",
   "execution_count": 16,
   "metadata": {},
   "outputs": [
    {
     "name": "stdout",
     "output_type": "stream",
     "text": [
      "9.999999999999998\n"
     ]
    }
   ],
   "source": [
    "print(9.999999999999999)"
   ]
  },
  {
   "cell_type": "code",
   "execution_count": 17,
   "metadata": {},
   "outputs": [
    {
     "name": "stdout",
     "output_type": "stream",
     "text": [
      "1234.5678\n",
      "1234.5678\n"
     ]
    }
   ],
   "source": [
    "print(1234.5678)\n",
    "print(1.2345678e3)"
   ]
  },
  {
   "cell_type": "code",
   "execution_count": 24,
   "metadata": {},
   "outputs": [
    {
     "name": "stdout",
     "output_type": "stream",
     "text": [
      "[0, 1, 2, 3, 4, 5, 6, 7, 8, 9]\n"
     ]
    }
   ],
   "source": [
    "print(list(range(10)))"
   ]
  },
  {
   "cell_type": "code",
   "execution_count": 1,
   "metadata": {},
   "outputs": [
    {
     "name": "stdout",
     "output_type": "stream",
     "text": [
      "1 coffee\n",
      "2 tea\n",
      "3 juice\n"
     ]
    }
   ],
   "source": [
    "drink = ['coffee', 'tea', 'juice']\n",
    "for i, x in enumerate(drink , 1):\n",
    "    print(i, x)"
   ]
  },
  {
   "cell_type": "code",
   "execution_count": 3,
   "metadata": {},
   "outputs": [
    {
     "name": "stdout",
     "output_type": "stream",
     "text": [
      "milk 150\n",
      "egg 200\n"
     ]
    }
   ],
   "source": [
    "class Food:\n",
    "    pass\n",
    "x = Food()\n",
    "x.name = 'milk'\n",
    "x.price = 150\n",
    "print(x.name, x.price)\n",
    "y = Food()\n",
    "y.name = 'egg'\n",
    "y.price = 200\n",
    "print(y.name, y.price)"
   ]
  },
  {
   "cell_type": "code",
   "execution_count": 8,
   "metadata": {},
   "outputs": [
    {
     "name": "stdout",
     "output_type": "stream",
     "text": [
      "name: chocolate\n",
      "price 100\n",
      "use-by date: 180\n",
      "\n",
      "name: figure\n",
      "price 350\n",
      "target age: 3\n",
      "name: chokolate+figure\n",
      "price 450\n",
      "target age: 3\n",
      "use-by date: 180\n",
      "eating chokolate+figure\n",
      "playing with chokolate+figure\n"
     ]
    }
   ],
   "source": [
    "class Item:\n",
    "    def __init__(self, name, price):\n",
    "        self.name = name\n",
    "        self.price = price\n",
    "        \n",
    "    def show(self):\n",
    "        print('name:', self.name)\n",
    "        print('price', self.price)\n",
    "\n",
    "class Food(Item):\n",
    "    def __init__(self, name, price, use_by_date):\n",
    "        super().__init__(name, price)\n",
    "        self.use_by_date = use_by_date\n",
    "        \n",
    "    def show(self):\n",
    "        super().show()\n",
    "        print('use-by date:', self.use_by_date)\n",
    "        \n",
    "    def eat(self):\n",
    "        print('eating', self.name)\n",
    "        \n",
    "class Toy(Item):\n",
    "    def __init__(self, name, price, target_age):\n",
    "        super().__init__(name, price)\n",
    "        self.target_age = target_age\n",
    "        \n",
    "    def show(self):\n",
    "        super().show()\n",
    "        print('target age:', self.target_age)\n",
    "        \n",
    "x = Food('chocolate', 100, 180)\n",
    "x.show()\n",
    "\n",
    "print()\n",
    "\n",
    "y = Toy('figure', 350, 3)\n",
    "y.show()\n",
    "            \n",
    "    \n",
    "class Shokugan(Food, Toy):\n",
    "    def __init__(self, name, price, use_by_date, target_age):\n",
    "        self.name = name\n",
    "        self.price = price\n",
    "        self.use_by_date = use_by_date\n",
    "        self.target_age = target_age\n",
    "        \n",
    "    def show(self):\n",
    "        super().show()\n",
    "        \n",
    "    def play(self):\n",
    "        print('playing with', self.name)\n",
    "        \n",
    "x = Shokugan('chokolate+figure', 450, 180, 3)\n",
    "x.show()\n",
    "x.eat()\n",
    "x.play()"
   ]
  },
  {
   "cell_type": "code",
   "execution_count": 3,
   "metadata": {},
   "outputs": [
    {
     "name": "stdout",
     "output_type": "stream",
     "text": [
      "[[1, 2, 3, 4, 5, 6, 7, 8, 9], [2, 4, 6, 8, 10, 12, 14, 16, 18], [3, 6, 9, 12, 15, 18, 21, 24, 27], [4, 8, 12, 16, 20, 24, 28, 32, 36], [5, 10, 15, 20, 25, 30, 35, 40, 45], [6, 12, 18, 24, 30, 36, 42, 48, 54], [7, 14, 21, 28, 35, 42, 49, 56, 63], [8, 16, 24, 32, 40, 48, 56, 64, 72], [9, 18, 27, 36, 45, 54, 63, 72, 81]]\n"
     ]
    }
   ],
   "source": [
    "print([[x * y for x in range(1, 10)] for y in range(1, 10)])"
   ]
  },
  {
   "cell_type": "code",
   "execution_count": 5,
   "metadata": {},
   "outputs": [
    {
     "name": "stdout",
     "output_type": "stream",
     "text": [
      "[1, 5, 7, 11, 13, 17, 19]\n"
     ]
    }
   ],
   "source": [
    "print([x for x in range(20) if x % 2 and x % 3])"
   ]
  },
  {
   "cell_type": "code",
   "execution_count": 9,
   "metadata": {},
   "outputs": [
    {
     "name": "stdout",
     "output_type": "stream",
     "text": [
      "['1', '2', 'Fizz', '4', 'Buzz', 'Fizz', '7', '8', 'Fizz', 'Buzz', '11', 'Fizz', '13', '14', 'Fizz Buzz']\n"
     ]
    }
   ],
   "source": [
    "a = []\n",
    "for i in range(1,16):\n",
    "    if i % 15 == 0:\n",
    "        a.append('Fizz Buzz')\n",
    "    elif i % 5 == 0:\n",
    "        a.append('Buzz')\n",
    "    elif i % 3 == 0:\n",
    "        a.append('Fizz')\n",
    "    else:\n",
    "        a.append(str(i))\n",
    "print(a)"
   ]
  },
  {
   "cell_type": "code",
   "execution_count": 10,
   "metadata": {},
   "outputs": [
    {
     "name": "stdin",
     "output_type": "stream",
     "text": [
      " w\n"
     ]
    },
    {
     "name": "stdout",
     "output_type": "stream",
     "text": [
      "w\n"
     ]
    },
    {
     "name": "stdin",
     "output_type": "stream",
     "text": [
      " w\n"
     ]
    },
    {
     "name": "stdout",
     "output_type": "stream",
     "text": [
      "w\n"
     ]
    },
    {
     "name": "stdin",
     "output_type": "stream",
     "text": [
      " q\n"
     ]
    }
   ],
   "source": [
    "while (x := input()) != 'q':\n",
    "    print(x)"
   ]
  },
  {
   "cell_type": "code",
   "execution_count": 69,
   "metadata": {},
   "outputs": [
    {
     "name": "stdin",
     "output_type": "stream",
     "text": [
      "price:  \n"
     ]
    },
    {
     "ename": "ValueError",
     "evalue": "invalid literal for int() with base 10: ''",
     "output_type": "error",
     "traceback": [
      "\u001b[1;31m---------------------------------------------------------------------------\u001b[0m",
      "\u001b[1;31mValueError\u001b[0m                                Traceback (most recent call last)",
      "\u001b[1;32m<ipython-input-69-0611350881f0>\u001b[0m in \u001b[0;36m<module>\u001b[1;34m\u001b[0m\n\u001b[0;32m      1\u001b[0m \u001b[1;32mwhile\u001b[0m \u001b[1;32mTrue\u001b[0m\u001b[1;33m:\u001b[0m\u001b[1;33m\u001b[0m\u001b[1;33m\u001b[0m\u001b[0m\n\u001b[1;32m----> 2\u001b[1;33m     \u001b[0mprice\u001b[0m \u001b[1;33m=\u001b[0m \u001b[0mint\u001b[0m\u001b[1;33m(\u001b[0m\u001b[0minput\u001b[0m\u001b[1;33m(\u001b[0m\u001b[1;34m'price: '\u001b[0m\u001b[1;33m)\u001b[0m\u001b[1;33m)\u001b[0m\u001b[1;33m\u001b[0m\u001b[1;33m\u001b[0m\u001b[0m\n\u001b[0m\u001b[0;32m      3\u001b[0m     \u001b[0mcount\u001b[0m \u001b[1;33m=\u001b[0m \u001b[0mint\u001b[0m\u001b[1;33m(\u001b[0m\u001b[0minput\u001b[0m\u001b[1;33m(\u001b[0m\u001b[1;34m'count: '\u001b[0m\u001b[1;33m)\u001b[0m\u001b[1;33m)\u001b[0m\u001b[1;33m\u001b[0m\u001b[1;33m\u001b[0m\u001b[0m\n\u001b[0;32m      4\u001b[0m     \u001b[0mprint\u001b[0m\u001b[1;33m(\u001b[0m\u001b[1;34m'price//count ='\u001b[0m\u001b[1;33m,\u001b[0m \u001b[0mprice\u001b[0m\u001b[1;33m//\u001b[0m\u001b[0mcount\u001b[0m\u001b[1;33m)\u001b[0m\u001b[1;33m\u001b[0m\u001b[1;33m\u001b[0m\u001b[0m\n\u001b[0;32m      5\u001b[0m     \u001b[0mprint\u001b[0m\u001b[1;33m(\u001b[0m\u001b[1;34m'-'\u001b[0m\u001b[1;33m*\u001b[0m\u001b[1;36m25\u001b[0m\u001b[1;33m)\u001b[0m\u001b[1;33m\u001b[0m\u001b[1;33m\u001b[0m\u001b[0m\n",
      "\u001b[1;31mValueError\u001b[0m: invalid literal for int() with base 10: ''"
     ]
    }
   ],
   "source": [
    "while True:\n",
    "    price = int(input('price: '))\n",
    "    count = int(input('count: '))\n",
    "    print('price//count =', price//count)\n",
    "    print('-'*25)"
   ]
  },
  {
   "cell_type": "code",
   "execution_count": 3,
   "metadata": {},
   "outputs": [
    {
     "name": "stdout",
     "output_type": "stream",
     "text": [
      "2\n"
     ]
    }
   ],
   "source": [
    "from random import randint as r\n",
    "print(r(1,6))"
   ]
  },
  {
   "cell_type": "code",
   "execution_count": 7,
   "metadata": {},
   "outputs": [
    {
     "data": {
      "text/plain": [
       "'chocolate'"
      ]
     },
     "execution_count": 7,
     "metadata": {},
     "output_type": "execute_result"
    }
   ],
   "source": [
    "import random\n",
    "random.random()\n",
    "flavor = ['vanilla', 'chocolate', 'strawberry']\n",
    "random.choice(flavor)"
   ]
  },
  {
   "cell_type": "code",
   "execution_count": 9,
   "metadata": {},
   "outputs": [
    {
     "data": {
      "text/plain": [
       "time.struct_time(tm_year=2021, tm_mon=3, tm_mday=2, tm_hour=11, tm_min=58, tm_sec=16, tm_wday=1, tm_yday=61, tm_isdst=0)"
      ]
     },
     "execution_count": 9,
     "metadata": {},
     "output_type": "execute_result"
    }
   ],
   "source": [
    "import time\n",
    "time.localtime()"
   ]
  },
  {
   "cell_type": "code",
   "execution_count": 17,
   "metadata": {},
   "outputs": [],
   "source": [
    "with open('test2.txt', 'w', encoding='utf-8') as file:\n",
    "    file.write('Hello\\n')\n",
    "    file.write('Python\\n')\n",
    "    file.write('Programming\\n')"
   ]
  },
  {
   "cell_type": "code",
   "execution_count": 20,
   "metadata": {},
   "outputs": [
    {
     "name": "stdout",
     "output_type": "stream",
     "text": [
      "Hello\n",
      "Python\n",
      "Programming\n",
      "\n"
     ]
    }
   ],
   "source": [
    "with open('test2.txt', encoding='utf-8') as file:\n",
    "    print(file.read())"
   ]
  },
  {
   "cell_type": "code",
   "execution_count": 23,
   "metadata": {},
   "outputs": [
    {
     "name": "stdout",
     "output_type": "stream",
     "text": [
      "1 Hello\n",
      "2 Python\n",
      "3 Programming\n"
     ]
    }
   ],
   "source": [
    "with open('test2.txt', encoding='utf-8') as file:\n",
    "    for count, text in enumerate(file, 1):\n",
    "        print(count, text, end = '')"
   ]
  },
  {
   "cell_type": "code",
   "execution_count": 25,
   "metadata": {},
   "outputs": [],
   "source": [
    "import csv\n",
    "catalog = [('hat', 2000), ('shirt', 1000), ('socks', 500)]\n",
    "with open('catalog.csv', 'w', encoding='utf-8', newline='') as file:\n",
    "    csv.writer(file).writerows(catalog)"
   ]
  },
  {
   "cell_type": "code",
   "execution_count": 27,
   "metadata": {},
   "outputs": [
    {
     "name": "stdout",
     "output_type": "stream",
     "text": [
      "[('hat', '2000'), ('shirt', '1000'), ('socks', '500')]\n"
     ]
    }
   ],
   "source": [
    "import csv\n",
    "with open('catalog.csv', encoding='utf-8') as file:\n",
    "    print([tuple(row) for row in csv.reader(file)])"
   ]
  },
  {
   "cell_type": "code",
   "execution_count": 29,
   "metadata": {},
   "outputs": [],
   "source": [
    "import json\n",
    "catalog = [{'name': 'hat', 'price': 2000},\n",
    "          {'name': 'shirt', 'price': 1000},\n",
    "         {'name': 'socks', 'price': 500}]\n",
    "with open('catalog.json', 'w', encoding='utf-8') as file:\n",
    "    json.dump(catalog, file, indent=4)"
   ]
  },
  {
   "cell_type": "code",
   "execution_count": 30,
   "metadata": {},
   "outputs": [
    {
     "name": "stdout",
     "output_type": "stream",
     "text": [
      "[{'name': 'hat', 'price': 2000}, {'name': 'shirt', 'price': 1000}, {'name': 'socks', 'price': 500}]\n"
     ]
    }
   ],
   "source": [
    "import json\n",
    "with open('catalog.json', encoding='utf-8') as file:\n",
    "    print(json.load(file))"
   ]
  },
  {
   "cell_type": "code",
   "execution_count": 31,
   "metadata": {},
   "outputs": [],
   "source": [
    "from PIL import Image\n",
    "image = Image.new('RGB', (640, 480), (255, 255, 0))\n",
    "image.save('yellow.png')"
   ]
  },
  {
   "cell_type": "code",
   "execution_count": 51,
   "metadata": {},
   "outputs": [],
   "source": [
    "from PIL import Image\n",
    "W, H = 20, 20\n",
    "image = Image.new('RGB', (W, H), (0, 0, 0))\n",
    "for x in range(W):\n",
    "    for y in range(H):\n",
    "        image.putpixel((x, y), (x*255//W, y*255//H, ((W+H)-(x+y))*255//(W+H)))\n",
    "image.save('gradation2.png')"
   ]
  },
  {
   "cell_type": "code",
   "execution_count": 36,
   "metadata": {},
   "outputs": [
    {
     "name": "stdout",
     "output_type": "stream",
     "text": [
      "PNG 640 480\n",
      "(199, 159, 72)\n"
     ]
    }
   ],
   "source": [
    "from PIL import Image\n",
    "image = Image.open('gradation.png')\n",
    "print(image.format, image.width, image.height)\n",
    "print(image.getpixel((500,300)))"
   ]
  },
  {
   "cell_type": "code",
   "execution_count": 34,
   "metadata": {},
   "outputs": [],
   "source": [
    "from PIL import Image\n",
    "image = Image.open('gradation.png')\n",
    "image.save('gradation.jpg')\n"
   ]
  },
  {
   "cell_type": "code",
   "execution_count": 37,
   "metadata": {},
   "outputs": [
    {
     "data": {
      "text/plain": [
       "729"
      ]
     },
     "execution_count": 37,
     "metadata": {},
     "output_type": "execute_result"
    }
   ],
   "source": [
    "pow(3,6)"
   ]
  },
  {
   "cell_type": "code",
   "execution_count": 40,
   "metadata": {},
   "outputs": [
    {
     "data": {
      "text/plain": [
       "4.7"
      ]
     },
     "execution_count": 40,
     "metadata": {},
     "output_type": "execute_result"
    }
   ],
   "source": [
    "round(4.678,1)"
   ]
  },
  {
   "cell_type": "code",
   "execution_count": 43,
   "metadata": {},
   "outputs": [
    {
     "name": "stdout",
     "output_type": "stream",
     "text": [
      "3\n",
      "7\n"
     ]
    }
   ],
   "source": [
    "print(min(3,5,7))\n",
    "print(max(3,5,7))"
   ]
  },
  {
   "cell_type": "code",
   "execution_count": 45,
   "metadata": {},
   "outputs": [
    {
     "name": "stdout",
     "output_type": "stream",
     "text": [
      "1\n",
      "87\n",
      "120\n"
     ]
    }
   ],
   "source": [
    "list = [1,23,5,87,4]\n",
    "print(min(list))\n",
    "print(max(list))\n",
    "print(sum(list))"
   ]
  },
  {
   "cell_type": "code",
   "execution_count": 50,
   "metadata": {},
   "outputs": [
    {
     "name": "stdout",
     "output_type": "stream",
     "text": [
      "<enumerate object at 0x0000026C030B7D40>\n"
     ]
    }
   ],
   "source": [
    "list = (1,23,5,87,4)\n",
    "print(enumerate(list,2))"
   ]
  },
  {
   "cell_type": "code",
   "execution_count": 1,
   "metadata": {},
   "outputs": [],
   "source": [
    "import openpyxl\n",
    "book = openpyxl.Workbook()\n",
    "book.save('catalog.xlsx')"
   ]
  },
  {
   "cell_type": "code",
   "execution_count": 8,
   "metadata": {},
   "outputs": [],
   "source": [
    "import openpyxl\n",
    "book = openpyxl.Workbook()\n",
    "sheet = book.active\n",
    "sheet['A1'] = 'hat'\n",
    "sheet['B1'] = 2000\n",
    "book.save('catalog.xlsx')"
   ]
  },
  {
   "cell_type": "code",
   "execution_count": 11,
   "metadata": {},
   "outputs": [
    {
     "name": "stdout",
     "output_type": "stream",
     "text": [
      "hat 2000\n"
     ]
    }
   ],
   "source": [
    "import openpyxl\n",
    "book = openpyxl.load_workbook('catalog.xlsx')\n",
    "sheet = book.active\n",
    "print(sheet['A1'].value, sheet['B1'].value)"
   ]
  },
  {
   "cell_type": "code",
   "execution_count": 19,
   "metadata": {},
   "outputs": [],
   "source": [
    "import openpyxl\n",
    "book = openpyxl.load_workbook('catalog.xlsx')\n",
    "sheet = book.active\n",
    "catalog = [('hat', 2000), ('shirt', 1000), ('socks', 500)]\n",
    "for i , (name, price) in enumerate(catalog, 1):\n",
    "    sheet[f'A{i}'] = name\n",
    "    sheet[f'B{i}'] = price\n",
    "book.save('catalog.xlsx')"
   ]
  },
  {
   "cell_type": "code",
   "execution_count": 15,
   "metadata": {},
   "outputs": [
    {
     "name": "stdout",
     "output_type": "stream",
     "text": [
      "hat 2000\n",
      "shirt 1000\n",
      "socks 1000\n"
     ]
    }
   ],
   "source": [
    "import openpyxl\n",
    "book = openpyxl.load_workbook('catalog.xlsx')\n",
    "sheet = book.active\n",
    "for name, price in sheet.iter_rows(values_only=True):\n",
    "    print(name, price)"
   ]
  },
  {
   "cell_type": "code",
   "execution_count": 20,
   "metadata": {},
   "outputs": [],
   "source": [
    "import openpyxl\n",
    "book = openpyxl.load_workbook('catalog.xlsx')\n",
    "sheet = book.active\n",
    "total = 0\n",
    "for i, (name, price) in enumerate(sheet.iter_rows(values_only=True), 1):\n",
    "    if not price:\n",
    "        continue\n",
    "    if name == 'Total':\n",
    "        break\n",
    "    total += price\n",
    "else:\n",
    "    i += 2\n",
    "sheet[f'A{i}'] = 'Total'\n",
    "sheet[f'B{i}'] = total\n",
    "book.save('catalog.xlsx')"
   ]
  },
  {
   "cell_type": "code",
   "execution_count": 43,
   "metadata": {},
   "outputs": [
    {
     "name": "stdout",
     "output_type": "stream",
     "text": [
      "0.0\n",
      "[60.19  60.735 52.825]\n",
      "[100. 100. 100.]\n",
      "[1. 2. 0.]\n"
     ]
    }
   ],
   "source": [
    "import numpy\n",
    "score = numpy.loadtxt('score.csv', delimiter=',')\n",
    "#print(score)\n",
    "#print(len(score))\n",
    "#print(score[2:6, 0:2])\n",
    "#print(score[:, 2])\n",
    "#print(score[score[:, 2] >= 95])\n",
    "#print(score[(score[:, 0] == 0) | (score[:, 1] == 0) | (score[:, 2] == 0)])\n",
    "#print(score[numpy.any(score == 100, 1)])\n",
    "#print(numpy.max(score[:, 1]))\n",
    "#print(numpy.min(score[:, 2]))\n",
    "#print(numpy.mean(score[:, 1]))\n",
    "print(numpy.mean(score, axis=0))\n",
    "print(numpy.max(score, axis=0))\n",
    "print(numpy.min(score, axis=0))"
   ]
  },
  {
   "cell_type": "code",
   "execution_count": 62,
   "metadata": {},
   "outputs": [
    {
     "name": "stdout",
     "output_type": "stream",
     "text": [
      "     English  Math  Japanese  total\n",
      "0         20    52        76    148\n",
      "1         79    55       100    234\n",
      "2         31    60        59    150\n",
      "3         85    66       100    251\n",
      "4         98    96        42    236\n",
      "..       ...   ...       ...    ...\n",
      "195       67    60        56    183\n",
      "196       61    69        27    157\n",
      "197        8    67        57    132\n",
      "198       70    81        89    240\n",
      "199       44     2         4     50\n",
      "\n",
      "[200 rows x 4 columns]\n"
     ]
    }
   ],
   "source": [
    "import pandas as pd\n",
    "score = pd.read_csv('score2.csv', encoding='utf_8')\n",
    "#print(score)\n",
    "#print(score.head())\n",
    "#print(score.tail())\n",
    "#print(score['Japanese'])\n",
    "#print(score[(score['Japanese'] == 100) | (score['English'] == 100)])\n",
    "#print(score.query('English  == 100 or Math == 100 or Japanese == 100'))\n",
    "#print(score[(score == 100).any(1)])\n",
    "score['total'] = score.sum(1)\n",
    "#del score['total']\n",
    "print(score)\n",
    "score.to_csv('score3.csv')"
   ]
  },
  {
   "cell_type": "code",
   "execution_count": 65,
   "metadata": {},
   "outputs": [
    {
     "data": {
      "image/png": "[encoded data removed]",
      "text/plain": [
       "<Figure size 432x288 with 1 Axes>"
      ]
     },
     "metadata": {
      "needs_background": "light"
     },
     "output_type": "display_data"
    }
   ],
   "source": [
    "import pandas as pd\n",
    "from matplotlib import pyplot\n",
    "\n",
    "score = pd.read_csv('score2.csv', encoding = 'utf_8')\n",
    "pyplot.figure('Math')\n",
    "pyplot.xlabel('Score')\n",
    "pyplot.ylabel('Count')\n",
    "pyplot.hist(score['Math'])\n",
    "pyplot.savefig('hist1.png')\n",
    "pyplot.show()"
   ]
  },
  {
   "cell_type": "code",
   "execution_count": 66,
   "metadata": {},
   "outputs": [
    {
     "data": {
      "image/png": "[encoded data removed]",
      "text/plain": [
       "<Figure size 432x288 with 4 Axes>"
      ]
     },
     "metadata": {
      "needs_background": "light"
     },
     "output_type": "display_data"
    }
   ],
   "source": [
    "import pandas as pd\n",
    "from matplotlib import pyplot\n",
    "\n",
    "score = pd.read_csv('score2.csv', encoding = 'utf_8')\n",
    "score.hist()\n",
    "pyplot.savefig('hist2.png')\n",
    "pyplot.show()"
   ]
  },
  {
   "cell_type": "code",
   "execution_count": 70,
   "metadata": {},
   "outputs": [
    {
     "data": {
      "image/png": "[encoded data removed]",
      "text/plain": [
       "<Figure size 432x432 with 1 Axes>"
      ]
     },
     "metadata": {
      "needs_background": "light"
     },
     "output_type": "display_data"
    }
   ],
   "source": [
    "import pandas as pd\n",
    "from matplotlib import pyplot\n",
    "\n",
    "score = pd.read_csv('score2.csv', encoding = 'utf_8')\n",
    "score.plot.scatter('English', 'Japanese', s=100, c='white', edgecolor='black', figsize=(6,6))\n",
    "\n",
    "pyplot.savefig('scatter1.png')\n",
    "pyplot.show()"
   ]
  },
  {
   "cell_type": "code",
   "execution_count": 71,
   "metadata": {},
   "outputs": [
    {
     "name": "stdout",
     "output_type": "stream",
     "text": [
      "[1 0 1 0 2 0 0 2 0 1 2 1 1 1 0 2 1 0 1 0 0 2 0 1 2 0 1 2 1 0 1 0 0 0 2 2 1\n",
      " 0 1 0 0 0 0 2 2 1 0 0 0 1 2 1 2 2 0 0 0 0 0 2 2 1 0 1 1 1 0 0 2 2 0 2 0 1\n",
      " 2 2 0 0 1 0 0 0 0 1 0 1 1 0 1 1 2 1 2 0 2 1 2 0 0 2 0 0 0 0 2 1 1 1 1 1 1\n",
      " 0 2 1 0 0 2 0 0 1 1 1 0 1 1 1 2 2 2 2 1 1 0 2 0 0 0 2 2 1 2 0 0 1 0 1 2 0\n",
      " 1 0 0 0 1 1 2 0 0 1 0 0 2 2 2 0 0 0 1 0 0 0 2 2 0 0 2 1 0 2 0 1 1 0 0 1 1\n",
      " 0 2 0 0 2 0 1 1 0 0 0 2 1 0 1]\n"
     ]
    }
   ],
   "source": [
    "import pandas as pd\n",
    "from matplotlib import pyplot\n",
    "from sklearn.cluster import KMeans\n",
    "\n",
    "score = pd.read_csv('score2.csv', encoding = 'utf_8')\n",
    "model = KMeans(n_clusters = 3).fit(score[['English', 'Japanese']])\n",
    "print(model.labels_)"
   ]
  },
  {
   "cell_type": "code",
   "execution_count": 78,
   "metadata": {},
   "outputs": [
    {
     "data": {
      "image/png": "[encoded data removed]",
      "text/plain": [
       "<Figure size 432x432 with 1 Axes>"
      ]
     },
     "metadata": {
      "needs_background": "light"
     },
     "output_type": "display_data"
    }
   ],
   "source": [
    "import pandas as pd\n",
    "from matplotlib import pyplot\n",
    "from sklearn.cluster import KMeans\n",
    "\n",
    "score = pd.read_csv('score2.csv', encoding = 'utf_8')\n",
    "model = KMeans(n_clusters = 3).fit(score[['English', 'Japanese']])\n",
    "\n",
    "score['Cluster'] = model.labels_\n",
    "score.to_csv('score4.csv')\n",
    "#print(score)\n",
    "score.plot.scatter('English', 'Japanese', s = 100, c = score['Cluster'], edgecolor='black', figsize=(6,6))\n",
    "pyplot.savefig('scatter2.png')\n",
    "pyplot.show()"
   ]
  },
  {
   "cell_type": "code",
   "execution_count": null,
   "metadata": {},
   "outputs": [],
   "source": []
  },
  {
   "cell_type": "code",
   "execution_count": null,
   "metadata": {},
   "outputs": [],
   "source": []
  }
 ],
 "metadata": {
  "kernelspec": {
   "display_name": "Python 3",
   "language": "python",
   "name": "python3"
  },
  "language_info": {
   "codemirror_mode": {
    "name": "ipython",
    "version": 3
   },
   "file_extension": ".py",
   "mimetype": "text/x-python",
   "name": "python",
   "nbconvert_exporter": "python",
   "pygments_lexer": "ipython3",
   "version": "3.8.5"
  }
 },
 "nbformat": 4,
 "nbformat_minor": 4
}
